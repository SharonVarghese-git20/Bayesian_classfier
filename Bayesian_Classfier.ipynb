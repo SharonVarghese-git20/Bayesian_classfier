{
  "nbformat": 4,
  "nbformat_minor": 0,
  "metadata": {
    "colab": {
      "provenance": [],
      "toc_visible": true,
      "authorship_tag": "ABX9TyNXvP9XDk4/PCCWV0U2dLHf",
      "include_colab_link": true
    },
    "kernelspec": {
      "name": "python3",
      "display_name": "Python 3"
    },
    "language_info": {
      "name": "python"
    }
  },
  "cells": [
    {
      "cell_type": "markdown",
      "metadata": {
        "id": "view-in-github",
        "colab_type": "text"
      },
      "source": [
        "<a href=\"https://colab.research.google.com/github/SharonVarghese-git20/Bayesian_classfier/blob/main/Bayesian_Classfier.ipynb\" target=\"_parent\"><img src=\"https://colab.research.google.com/assets/colab-badge.svg\" alt=\"Open In Colab\"/></a>"
      ]
    },
    {
      "cell_type": "code",
      "execution_count": 1,
      "metadata": {
        "id": "PZXqSUVA8rvo"
      },
      "outputs": [],
      "source": [
        "import pandas as pd\n",
        "from sklearn.model_selection import train_test_split\n",
        "from sklearn.feature_extraction.text import CountVectorizer\n",
        "from sklearn.naive_bayes import MultinomialNB\n",
        "from sklearn.metrics import accuracy_score,confusion_matrix,precision_score,recall_score\n",
        "\n",
        "path ='/content/document.csv'"
      ]
    },
    {
      "cell_type": "code",
      "source": [
        "msg=pd.read_csv(path,names=['message','label'])\n",
        "print(\"Total Instances of Dataset:\",msg.shape[0])\n",
        "msg['labelnum']=msg.label.map({'pos':1,'neg':0})"
      ],
      "metadata": {
        "colab": {
          "base_uri": "https://localhost:8080/"
        },
        "id": "yi2OeT1JDr-n",
        "outputId": "5edf7f6c-4d3a-4c02-99cc-74ac9d2ac0b8"
      },
      "execution_count": 2,
      "outputs": [
        {
          "output_type": "stream",
          "name": "stdout",
          "text": [
            "Total Instances of Dataset: 18\n"
          ]
        }
      ]
    },
    {
      "cell_type": "code",
      "source": [
        "X=msg.message\n",
        "y=msg.labelnum\n",
        "Xtrain,Xtest,ytrain,ytest=train_test_split(X,y)"
      ],
      "metadata": {
        "id": "n2hZtpjeHBri"
      },
      "execution_count": 6,
      "outputs": []
    },
    {
      "cell_type": "code",
      "source": [
        "count_v =CountVectorizer()\n",
        "Xtrain_dm=count_v.fit_transform(Xtrain)\n",
        "Xtest_dm=count_v.transform(Xtest)"
      ],
      "metadata": {
        "id": "v7Vc-sd_Id0B"
      },
      "execution_count": 7,
      "outputs": []
    },
    {
      "cell_type": "code",
      "source": [
        "df=pd.DataFrame(Xtrain_dm.toarray(),columns=count_v.get_feature_names_out())\n",
        "print(df[0:5])"
      ],
      "metadata": {
        "colab": {
          "base_uri": "https://localhost:8080/"
        },
        "id": "R22eqN2cJYph",
        "outputId": "75d660d4-729b-439c-b3fd-06d26ea7e310"
      },
      "execution_count": 8,
      "outputs": [
        {
          "output_type": "stream",
          "name": "stdout",
          "text": [
            "   about  am  amazing  an  and  awesome  bad  beers  boss  dance  ...  this  \\\n",
            "0      0   0        0   0    0        0    0      0     0      0  ...     0   \n",
            "1      0   0        0   1    0        1    0      0     0      0  ...     1   \n",
            "2      0   0        0   0    0        0    0      0     0      0  ...     1   \n",
            "3      0   0        0   0    0        0    0      0     0      0  ...     0   \n",
            "4      0   1        0   0    1        0    0      0     0      0  ...     1   \n",
            "\n",
            "   tired  to  today  tomorrow  very  we  went  what  will  \n",
            "0      0   0      0         0     0   0     0     1     0  \n",
            "1      0   0      0         0     0   0     0     0     0  \n",
            "2      0   0      0         0     0   0     0     0     0  \n",
            "3      0   1      1         0     0   0     1     0     0  \n",
            "4      1   0      0         0     0   0     0     0     0  \n",
            "\n",
            "[5 rows x 43 columns]\n"
          ]
        }
      ]
    },
    {
      "cell_type": "code",
      "source": [
        "clf=MultinomialNB()\n",
        "clf.fit(Xtrain_dm,ytrain)\n",
        "pred=clf.predict(Xtest_dm)"
      ],
      "metadata": {
        "id": "6zoxtdBHKGqI"
      },
      "execution_count": 9,
      "outputs": []
    },
    {
      "cell_type": "code",
      "source": [
        "for doc,p in zip(Xtrain,pred):\n",
        "  p='pos' if p==1 else 'neg'\n",
        "  print(\"%s ->%s\" %(doc,p))"
      ],
      "metadata": {
        "colab": {
          "base_uri": "https://localhost:8080/"
        },
        "id": "ySJ9D6YMKkto",
        "outputId": "ca32735f-b766-4b29-cbe7-91ffff89967f"
      },
      "execution_count": 10,
      "outputs": [
        {
          "output_type": "stream",
          "name": "stdout",
          "text": [
            "What a great holiday ->neg\n",
            "This is an awesome place ->pos\n",
            "I love this sandwich ->neg\n",
            "I went to my enemy's house today ->pos\n",
            "I am sick and tired of this place ->pos\n"
          ]
        }
      ]
    },
    {
      "cell_type": "code",
      "source": [
        "print('Accuracy Metrics: \\n')\n",
        "print('Accuracy: ',accuracy_score(ytest,pred))\n",
        "print(\"Recall: \",recall_score(ytest,pred))\n",
        "print(\"Precision: \",precision_score(ytest,pred))\n",
        "print('Confusion Matrix: \\n',confusion_matrix(ytest,pred))"
      ],
      "metadata": {
        "colab": {
          "base_uri": "https://localhost:8080/"
        },
        "id": "rQvMwzhMLlNg",
        "outputId": "0f543a68-c02b-4117-fc75-727d8a928baf"
      },
      "execution_count": 11,
      "outputs": [
        {
          "output_type": "stream",
          "name": "stdout",
          "text": [
            "Accuracy Metrics: \n",
            "\n",
            "Accuracy:  0.4\n",
            "Recall:  0.5\n",
            "Precision:  0.3333333333333333\n",
            "Confusion Matrix: \n",
            " [[1 2]\n",
            " [1 1]]\n"
          ]
        }
      ]
    }
  ]
}